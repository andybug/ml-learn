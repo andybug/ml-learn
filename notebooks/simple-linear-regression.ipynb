{
 "cells": [
  {
   "cell_type": "markdown",
   "id": "f5f3ad80",
   "metadata": {},
   "source": [
    "# Simple Linear Regression\n",
    "\n",
    "Linear regression is a supervised learning algorithm used for predicting a continuous outcome variable (also called the dependent variable) based on one or more predictor variables (also called independent variables).\n",
    "\n",
    "This notebook is an implementation of simple linear regression for learning purposes."
   ]
  },
  {
   "cell_type": "markdown",
   "id": "fce68dd6",
   "metadata": {},
   "source": [
    "## Algorithm\n",
    "\n",
    "Here is the equation for the _ith_ element of _y_, where $\\alpha$ is the y-intercept, $\\beta$ is the slope and $\\epsilon$ is the error. \n",
    "\n",
    "$y_{i} = \\alpha + \\beta x_{i} + \\epsilon_{i}$\n",
    "\n",
    "We want to minimize the error squared.\n",
    "\n",
    "$min Q(\\alpha, \\beta) = \\sum_{i=1}^{n}(\\hat{\\epsilon_{i}})^2 = \\sum_{i=1}^{n}(y_{i} - \\alpha - \\beta x_{i})^2$\n",
    "\n",
    "Through some math that I don't follow we end up with:\n",
    "\n",
    "$\\hat{\\alpha} = \\bar{y} - (\\hat{\\beta} \\bar{x})$\n",
    "\n",
    "$\\hat{\\beta} = \\frac{\\sum_{i=1}^{n}(x_{i} - \\bar{x})(y_{i} - \\bar{y})}{\\sum_{i=1}^{n}(x_{i} - \\bar{x})^2}$\n",
    "\n",
    "For $\\beta$, it further reduces:\n",
    "\n",
    "$\\beta = \\frac{\\text{sample covariance}}{\\text{sample variance}}$\n",
    "\n",
    "$\\beta = \\text{sample correlation coefficient} * \\frac{\\text{uncorrected standard deviation of } y}{\\text{uncorrected standard deviation of } x}$\n",
    "\n",
    "See [Wikipedia](https://en.wikipedia.org/wiki/Simple_linear_regression) for more information, especially the _Numerical example_ section."
   ]
  },
  {
   "cell_type": "code",
   "execution_count": 1,
   "id": "0d1c60b2",
   "metadata": {},
   "outputs": [],
   "source": [
    "import numpy as np\n",
    "\n",
    "# I used ChatGPT to generate some of this and it decided to use\n",
    "# the means * n instead of sums, which is probably slightly faster\n",
    "# since it reduces the amount that needs to be calculated\n",
    "def simple_linear_regression(x, y):\n",
    "    num_samples = np.size(x)\n",
    "    assert(num_samples == np.size(y))\n",
    "\n",
    "    x_mean = np.mean(x)\n",
    "    y_mean = np.mean(y)\n",
    "\n",
    "    S_xy = np.sum(x * y)\n",
    "    S_xx = np.sum(x * x)\n",
    "    \n",
    "    # beta is the slope\n",
    "    beta_numerator = S_xy - (num_samples * x_mean * y_mean)\n",
    "    beta_denominator = S_xx - (num_samples * x_mean * x_mean)\n",
    "    beta = beta_numerator / beta_denominator\n",
    "    \n",
    "    # alpha is the y-intercept\n",
    "    alpha = y_mean - (beta * x_mean)\n",
    "    \n",
    "    # predicted/fitted y\n",
    "    y_fit = alpha + beta * x\n",
    "\n",
    "    # total sum of squares\n",
    "    SST = np.sum((y - y_mean)**2)\n",
    "\n",
    "    # residual sum of squares\n",
    "    SSR = np.sum((y - y_fit)**2)\n",
    "\n",
    "    # R^2 coefficient of determination\n",
    "    R_squared = 1 - (SSR / SST)\n",
    "    \n",
    "    return (alpha, beta, R_squared)"
   ]
  },
  {
   "cell_type": "markdown",
   "id": "68de701f",
   "metadata": {},
   "source": [
    "## Data\n",
    "\n",
    "Now, let's load some data into a `DataFrame`. This data is taken from the _Numerical example_ on the Wikipedia page linked above."
   ]
  },
  {
   "cell_type": "code",
   "execution_count": 2,
   "id": "4c4d3fdf",
   "metadata": {},
   "outputs": [
    {
     "data": {
      "text/html": [
       "<div>\n",
       "<style scoped>\n",
       "    .dataframe tbody tr th:only-of-type {\n",
       "        vertical-align: middle;\n",
       "    }\n",
       "\n",
       "    .dataframe tbody tr th {\n",
       "        vertical-align: top;\n",
       "    }\n",
       "\n",
       "    .dataframe thead th {\n",
       "        text-align: right;\n",
       "    }\n",
       "</style>\n",
       "<table border=\"1\" class=\"dataframe\">\n",
       "  <thead>\n",
       "    <tr style=\"text-align: right;\">\n",
       "      <th></th>\n",
       "      <th>height</th>\n",
       "      <th>mass</th>\n",
       "    </tr>\n",
       "  </thead>\n",
       "  <tbody>\n",
       "    <tr>\n",
       "      <th>0</th>\n",
       "      <td>1.47</td>\n",
       "      <td>52.21</td>\n",
       "    </tr>\n",
       "    <tr>\n",
       "      <th>1</th>\n",
       "      <td>1.50</td>\n",
       "      <td>53.12</td>\n",
       "    </tr>\n",
       "    <tr>\n",
       "      <th>2</th>\n",
       "      <td>1.52</td>\n",
       "      <td>54.48</td>\n",
       "    </tr>\n",
       "    <tr>\n",
       "      <th>3</th>\n",
       "      <td>1.55</td>\n",
       "      <td>55.84</td>\n",
       "    </tr>\n",
       "    <tr>\n",
       "      <th>4</th>\n",
       "      <td>1.57</td>\n",
       "      <td>57.20</td>\n",
       "    </tr>\n",
       "    <tr>\n",
       "      <th>5</th>\n",
       "      <td>1.60</td>\n",
       "      <td>58.57</td>\n",
       "    </tr>\n",
       "    <tr>\n",
       "      <th>6</th>\n",
       "      <td>1.63</td>\n",
       "      <td>59.93</td>\n",
       "    </tr>\n",
       "    <tr>\n",
       "      <th>7</th>\n",
       "      <td>1.65</td>\n",
       "      <td>61.29</td>\n",
       "    </tr>\n",
       "    <tr>\n",
       "      <th>8</th>\n",
       "      <td>1.68</td>\n",
       "      <td>63.11</td>\n",
       "    </tr>\n",
       "    <tr>\n",
       "      <th>9</th>\n",
       "      <td>1.70</td>\n",
       "      <td>64.47</td>\n",
       "    </tr>\n",
       "    <tr>\n",
       "      <th>10</th>\n",
       "      <td>1.73</td>\n",
       "      <td>66.28</td>\n",
       "    </tr>\n",
       "    <tr>\n",
       "      <th>11</th>\n",
       "      <td>1.75</td>\n",
       "      <td>68.10</td>\n",
       "    </tr>\n",
       "    <tr>\n",
       "      <th>12</th>\n",
       "      <td>1.78</td>\n",
       "      <td>69.92</td>\n",
       "    </tr>\n",
       "    <tr>\n",
       "      <th>13</th>\n",
       "      <td>1.80</td>\n",
       "      <td>72.19</td>\n",
       "    </tr>\n",
       "    <tr>\n",
       "      <th>14</th>\n",
       "      <td>1.83</td>\n",
       "      <td>74.46</td>\n",
       "    </tr>\n",
       "  </tbody>\n",
       "</table>\n",
       "</div>"
      ],
      "text/plain": [
       "    height   mass\n",
       "0     1.47  52.21\n",
       "1     1.50  53.12\n",
       "2     1.52  54.48\n",
       "3     1.55  55.84\n",
       "4     1.57  57.20\n",
       "5     1.60  58.57\n",
       "6     1.63  59.93\n",
       "7     1.65  61.29\n",
       "8     1.68  63.11\n",
       "9     1.70  64.47\n",
       "10    1.73  66.28\n",
       "11    1.75  68.10\n",
       "12    1.78  69.92\n",
       "13    1.80  72.19\n",
       "14    1.83  74.46"
      ]
     },
     "execution_count": 2,
     "metadata": {},
     "output_type": "execute_result"
    }
   ],
   "source": [
    "import pandas as pd\n",
    "\n",
    "data = {\n",
    "    'height': [1.47, 1.50, 1.52, 1.55, 1.57, 1.60, 1.63,\n",
    "               1.65, 1.68, 1.70, 1.73, 1.75, 1.78, 1.80, 1.83],\n",
    "    'mass': [52.21, 53.12, 54.48, 55.84, 57.20, 58.57, 59.93,\n",
    "             61.29, 63.11, 64.47, 66.28, 68.10, 69.92, 72.19, 74.46]\n",
    "}\n",
    "\n",
    "df = pd.DataFrame(data)\n",
    "df"
   ]
  },
  {
   "cell_type": "code",
   "execution_count": 3,
   "id": "2359bc81",
   "metadata": {},
   "outputs": [
    {
     "data": {
      "text/html": [
       "<div>\n",
       "<style scoped>\n",
       "    .dataframe tbody tr th:only-of-type {\n",
       "        vertical-align: middle;\n",
       "    }\n",
       "\n",
       "    .dataframe tbody tr th {\n",
       "        vertical-align: top;\n",
       "    }\n",
       "\n",
       "    .dataframe thead th {\n",
       "        text-align: right;\n",
       "    }\n",
       "</style>\n",
       "<table border=\"1\" class=\"dataframe\">\n",
       "  <thead>\n",
       "    <tr style=\"text-align: right;\">\n",
       "      <th></th>\n",
       "      <th>height</th>\n",
       "      <th>mass</th>\n",
       "    </tr>\n",
       "  </thead>\n",
       "  <tbody>\n",
       "    <tr>\n",
       "      <th>count</th>\n",
       "      <td>15.000000</td>\n",
       "      <td>15.000000</td>\n",
       "    </tr>\n",
       "    <tr>\n",
       "      <th>mean</th>\n",
       "      <td>1.650667</td>\n",
       "      <td>62.078000</td>\n",
       "    </tr>\n",
       "    <tr>\n",
       "      <th>std</th>\n",
       "      <td>0.114235</td>\n",
       "      <td>7.037515</td>\n",
       "    </tr>\n",
       "    <tr>\n",
       "      <th>min</th>\n",
       "      <td>1.470000</td>\n",
       "      <td>52.210000</td>\n",
       "    </tr>\n",
       "    <tr>\n",
       "      <th>25%</th>\n",
       "      <td>1.560000</td>\n",
       "      <td>56.520000</td>\n",
       "    </tr>\n",
       "    <tr>\n",
       "      <th>50%</th>\n",
       "      <td>1.650000</td>\n",
       "      <td>61.290000</td>\n",
       "    </tr>\n",
       "    <tr>\n",
       "      <th>75%</th>\n",
       "      <td>1.740000</td>\n",
       "      <td>67.190000</td>\n",
       "    </tr>\n",
       "    <tr>\n",
       "      <th>max</th>\n",
       "      <td>1.830000</td>\n",
       "      <td>74.460000</td>\n",
       "    </tr>\n",
       "  </tbody>\n",
       "</table>\n",
       "</div>"
      ],
      "text/plain": [
       "          height       mass\n",
       "count  15.000000  15.000000\n",
       "mean    1.650667  62.078000\n",
       "std     0.114235   7.037515\n",
       "min     1.470000  52.210000\n",
       "25%     1.560000  56.520000\n",
       "50%     1.650000  61.290000\n",
       "75%     1.740000  67.190000\n",
       "max     1.830000  74.460000"
      ]
     },
     "execution_count": 3,
     "metadata": {},
     "output_type": "execute_result"
    }
   ],
   "source": [
    "df.describe()"
   ]
  },
  {
   "cell_type": "code",
   "execution_count": 4,
   "id": "21af81f6",
   "metadata": {},
   "outputs": [
    {
     "data": {
      "image/png": "[encoded data removed]",
      "text/plain": [
       "<Figure size 640x480 with 1 Axes>"
      ]
     },
     "metadata": {},
     "output_type": "display_data"
    }
   ],
   "source": [
    "import matplotlib.pyplot as plt\n",
    "\n",
    "plt.scatter(df['height'], df['mass'])\n",
    "plt.xlabel('Height')\n",
    "plt.ylabel('Mass')\n",
    "plt.title('Scatter Plot: Height vs. Mass')\n",
    "plt.show()"
   ]
  },
  {
   "cell_type": "markdown",
   "id": "050226ab",
   "metadata": {},
   "source": [
    "## Testing\n",
    "\n",
    "Now, let's test the `simple_linear_regression` function against `scikit-learn`'s implementation."
   ]
  },
  {
   "cell_type": "code",
   "execution_count": 5,
   "id": "002f1d4f",
   "metadata": {},
   "outputs": [
    {
     "name": "stdout",
     "output_type": "stream",
     "text": [
      "simple_linear_regression: (-39.061955918839416, 61.272186542107896, 0.9891969224457968)\n"
     ]
    }
   ],
   "source": [
    "alpha, beta, r2 = simple_linear_regression(df['height'], df['mass'])\n",
    "print(f'simple_linear_regression: ({alpha}, {beta}, {r2})')"
   ]
  },
  {
   "cell_type": "code",
   "execution_count": 6,
   "id": "7439a67f",
   "metadata": {
    "scrolled": true
   },
   "outputs": [
    {
     "name": "stdout",
     "output_type": "stream",
     "text": [
      "sklearn: (-39.06195591884392, 61.272186542110624, 0.9891969224457968)\n"
     ]
    }
   ],
   "source": [
    "from sklearn.linear_model import LinearRegression\n",
    "\n",
    "reg = LinearRegression()\n",
    "\n",
    "# reshape the columns to be an array of single-element arrays\n",
    "# this is what scikit-learn's fit expects\n",
    "# X: {array-like, sparse matrix} of shape (n_samples, n_features)\n",
    "# y: array-like of shape (n_samples,) or (n_samples, n_targets)\n",
    "X = df['height'].values.reshape(-1, 1)\n",
    "y = df['mass'].values.reshape(-1, 1)\n",
    "\n",
    "reg.fit(X, y)\n",
    "\n",
    "sklearn_alpha = reg.intercept_[0]\n",
    "sklearn_beta = reg.coef_[0][0]\n",
    "sklearn_r2 = reg.score(X, y)\n",
    "\n",
    "print(f'sklearn: ({sklearn_alpha}, {sklearn_beta}, {sklearn_r2})')"
   ]
  },
  {
   "cell_type": "code",
   "execution_count": 7,
   "id": "a28b3c20",
   "metadata": {},
   "outputs": [
    {
     "data": {
      "image/png": "[encoded data removed]",
      "text/plain": [
       "<Figure size 640x480 with 1 Axes>"
      ]
     },
     "metadata": {},
     "output_type": "display_data"
    }
   ],
   "source": [
    "plt.scatter(df['height'], df['mass'])\n",
    "plt.xlabel('Height')\n",
    "plt.ylabel('Mass')\n",
    "plt.title('Scatter Plot: Height vs. Mass')\n",
    "\n",
    "plt.plot(df[\"height\"], alpha + beta * df['height'], color=\"red\", label=\"Regression\")\n",
    "\n",
    "plt.show()"
   ]
  },
  {
   "cell_type": "markdown",
   "id": "e1b4662a",
   "metadata": {},
   "source": [
    "## Prediction\n",
    "\n",
    "Now, let's try to predict a value and again compare it to `scikit-learn`."
   ]
  },
  {
   "cell_type": "code",
   "execution_count": 8,
   "id": "3e1f2cc0",
   "metadata": {},
   "outputs": [
    {
     "name": "stdout",
     "output_type": "stream",
     "text": [
      "predicted: (2.0, 83.48241716537638)\n",
      "sklearn: (2.0, 83.48241716537733)\n"
     ]
    }
   ],
   "source": [
    "predicted_height = 2.0\n",
    "predicted_mass = alpha + (beta * predicted_height)\n",
    "print(f'predicted: ({predicted_height}, {predicted_mass})')\n",
    "\n",
    "sklearn_mass = reg.predict([[predicted_height]])[0][0]\n",
    "print(f'sklearn: ({predicted_height}, {sklearn_mass})')"
   ]
  }
 ],
 "metadata": {
  "kernelspec": {
   "display_name": "Python 3 (ipykernel)",
   "language": "python",
   "name": "python3"
  },
  "language_info": {
   "codemirror_mode": {
    "name": "ipython",
    "version": 3
   },
   "file_extension": ".py",
   "mimetype": "text/x-python",
   "name": "python",
   "nbconvert_exporter": "python",
   "pygments_lexer": "ipython3",
   "version": "3.10.6"
  }
 },
 "nbformat": 4,
 "nbformat_minor": 5
}
